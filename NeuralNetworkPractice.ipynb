{
  "nbformat": 4,
  "nbformat_minor": 0,
  "metadata": {
    "colab": {
      "name": "NeuralNetworkPractice.ipynb",
      "provenance": [],
      "authorship_tag": "ABX9TyNcB8Hix9E5e9qMoPzkkFCJ",
      "include_colab_link": true
    },
    "kernelspec": {
      "name": "python3",
      "display_name": "Python 3"
    },
    "language_info": {
      "name": "python"
    }
  },
  "cells": [
    {
      "cell_type": "markdown",
      "metadata": {
        "id": "view-in-github",
        "colab_type": "text"
      },
      "source": [
        "<a href=\"https://colab.research.google.com/github/JosePabloGFnl/Tensorflow-Practice/blob/main/NeuralNetworkPractice.ipynb\" target=\"_parent\"><img src=\"https://colab.research.google.com/assets/colab-badge.svg\" alt=\"Open In Colab\"/></a>"
      ]
    },
    {
      "cell_type": "code",
      "execution_count": null,
      "metadata": {
        "id": "yaFnjw856Bog"
      },
      "outputs": [],
      "source": [
        "import tensorflow as tf\n",
        "import numpy as np"
      ]
    },
    {
      "cell_type": "code",
      "source": [
        "#variables\n",
        "celsius = np.array([-40, -10, 0, 8, 15, 22, 38], dtype=float)\n",
        "fahrenheit = np.array([-40, 14, 32, 46, 59, 72, 100], dtype=float)"
      ],
      "metadata": {
        "id": "-i_qJ_K_6cID"
      },
      "execution_count": null,
      "outputs": []
    },
    {
      "cell_type": "code",
      "source": [
        "capa = tf.keras.layers.Dense(units=1, input_shape=[1]) #we'll use keras to save lines of code\n",
        "modelo = tf.keras.Sequential([capa])"
      ],
      "metadata": {
        "id": "HeA-woT46-7g"
      },
      "execution_count": null,
      "outputs": []
    },
    {
      "cell_type": "code",
      "source": [
        "#an example on how it works with several layers\n",
        "\n",
        "oculta1 = tf.keras.layers.Dense(units=3, input_shape=[1])\n",
        "oculta2 = tf.keras.layers.Dense(units=3)\n",
        "salida = tf.keras.layers.Dense(units=1)\n",
        "modelo = tf.keras.Sequential([oculta1, oculta2, salida])\n",
        "\n",
        "#the training is faster in this case"
      ],
      "metadata": {
        "id": "vP5raZ8v-4qW"
      },
      "execution_count": null,
      "outputs": []
    },
    {
      "cell_type": "code",
      "source": [
        "modelo.compile(\n",
        "    optimizer=tf.keras.optimizers.Adam(0.1),\n",
        "    loss='mean_squared_error'\n",
        ")"
      ],
      "metadata": {
        "id": "AOj5ow4c7QpY"
      },
      "execution_count": null,
      "outputs": []
    },
    {
      "cell_type": "code",
      "source": [
        "#training\n",
        "print(\"Training in process...\")\n",
        "historial = modelo.fit(celsius, fahrenheit, epochs = 1000, verbose=False)\n",
        "print(\"Training completed\")"
      ],
      "metadata": {
        "colab": {
          "base_uri": "https://localhost:8080/"
        },
        "id": "jS5fx25D7sfE",
        "outputId": "4e370c5d-716d-4a5b-c24b-fedd26852f8c"
      },
      "execution_count": null,
      "outputs": [
        {
          "output_type": "stream",
          "name": "stdout",
          "text": [
            "Training in process...\n",
            "Training completed\n"
          ]
        }
      ]
    },
    {
      "cell_type": "code",
      "source": [
        "#loss function\n",
        "\n",
        "#we're going to see this before predicting\n",
        "import matplotlib.pyplot as plt\n",
        "plt.xlabel(\"# Epoch\")\n",
        "plt.ylabel(\"Loss\")\n",
        "plt.plot(historial.history[\"loss\"])"
      ],
      "metadata": {
        "colab": {
          "base_uri": "https://localhost:8080/",
          "height": 299
        },
        "id": "CrX3tObT8o95",
        "outputId": "bf8ca222-1888-4d91-8da3-c45e1fc9902c"
      },
      "execution_count": null,
      "outputs": [
        {
          "output_type": "execute_result",
          "data": {
            "text/plain": [
              "[<matplotlib.lines.Line2D at 0x7f54590d24d0>]"
            ]
          },
          "metadata": {},
          "execution_count": 15
        },
        {
          "output_type": "display_data",
          "data": {
            "image/png": "[encoded data removed]",
            "text/plain": [
              "<Figure size 432x288 with 1 Axes>"
            ]
          },
          "metadata": {
            "needs_background": "light"
          }
        }
      ]
    },
    {
      "cell_type": "code",
      "source": [
        "print(\"Prediction: \")\n",
        "#we don't have 100 degrees in our info, so we're going to test with that\n",
        "resultado = modelo.predict([100.0])\n",
        "print(\"Result: \" + str(resultado) + \" degrees fahrenheit\")"
      ],
      "metadata": {
        "colab": {
          "base_uri": "https://localhost:8080/"
        },
        "id": "slQmGHSX9zEX",
        "outputId": "fc304e64-3d2a-4e3b-f019-0e4b4dbdf560"
      },
      "execution_count": null,
      "outputs": [
        {
          "output_type": "stream",
          "name": "stdout",
          "text": [
            "Prediction: \n",
            "Result: [[211.74742]]degrees fahrenheit\n"
          ]
        }
      ]
    },
    {
      "cell_type": "code",
      "source": [
        "print(\"Internal variables in the model: \")\n",
        "print(capa.get_weights())\n",
        "\n",
        "#How it works: 100 * 1.798 + 31.9 = 211.74"
      ],
      "metadata": {
        "colab": {
          "base_uri": "https://localhost:8080/"
        },
        "id": "ZNaLysQl-Wbg",
        "outputId": "68e5e532-e118-419a-adda-53059ad24398"
      },
      "execution_count": null,
      "outputs": [
        {
          "output_type": "stream",
          "name": "stdout",
          "text": [
            "Internal variables in the model: \n",
            "[array([[1.7984012]], dtype=float32), array([31.900372], dtype=float32)]\n"
          ]
        }
      ]
    },
    {
      "cell_type": "code",
      "source": [
        "print(\"Variables internas del modelo\")\n",
        "print(oculta1.get_weights())\n",
        "print(oculta2.get_weights())\n",
        "print(salida.get_weights())"
      ],
      "metadata": {
        "colab": {
          "base_uri": "https://localhost:8080/"
        },
        "id": "hqblebcf_JqP",
        "outputId": "2700971b-b640-4a9f-c606-d118c7608851"
      },
      "execution_count": null,
      "outputs": [
        {
          "output_type": "stream",
          "name": "stdout",
          "text": [
            "Variables internas del modelo\n",
            "[array([[ 0.01723433,  0.47684628, -0.28183788]], dtype=float32), array([ 1.6040038,  5.260229 , -2.2153916], dtype=float32)]\n",
            "[array([[-0.42704862,  0.80784637, -1.2420443 ],\n",
            "       [ 0.07123512,  1.8066207 ,  1.5280346 ],\n",
            "       [ 1.1315044 , -0.511     ,  0.50083673]], dtype=float32), array([-2.9311388 ,  4.8520703 , -0.08911679], dtype=float32)]\n",
            "[array([[-0.33707651],\n",
            "       [ 1.3940325 ],\n",
            "       [ 0.49165797]], dtype=float32), array([4.2356706], dtype=float32)]\n"
          ]
        }
      ]
    }
  ]
}