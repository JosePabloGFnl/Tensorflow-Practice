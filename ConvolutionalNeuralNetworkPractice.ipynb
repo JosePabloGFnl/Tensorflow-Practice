{
  "nbformat": 4,
  "nbformat_minor": 0,
  "metadata": {
    "colab": {
      "name": "ConvolutionalNeuralNetworkPractice.ipynb",
      "provenance": [],
      "authorship_tag": "ABX9TyO+EbZINw9hEns+710wCZNP",
      "include_colab_link": true
    },
    "kernelspec": {
      "name": "python3",
      "display_name": "Python 3"
    },
    "language_info": {
      "name": "python"
    }
  },
  "cells": [
    {
      "cell_type": "markdown",
      "metadata": {
        "id": "view-in-github",
        "colab_type": "text"
      },
      "source": [
        "<a href=\"https://colab.research.google.com/github/JosePabloGFnl/Tensorflow-Practice/blob/main/ConvolutionalNeuralNetworkPractice.ipynb\" target=\"_parent\"><img src=\"https://colab.research.google.com/assets/colab-badge.svg\" alt=\"Open In Colab\"/></a>"
      ]
    },
    {
      "cell_type": "code",
      "execution_count": null,
      "metadata": {
        "id": "8IRMRe0T_hlg"
      },
      "outputs": [],
      "source": [
        "import tensorflow as tf\n",
        "import tensorflow_datasets as tfds\n",
        "\n",
        "#download data set\n",
        "datos, metadatos = tfds.load('mnist', as_supervised=True, with_info=True)\n",
        "#obtain in variables the training and testing data\n",
        "datos_entrenamiento, datos_pruebas = datos['train'], datos['test']\n",
        "\n",
        "#normalizing values to a range from 0-255 to 0-1\n",
        "def normalizar(imagenes, etiquetas):\n",
        "  imagenes = tf.cast(imagenes, tf.float32)\n",
        "  imagenes /= 255 #the process mentioned above is made here\n",
        "  return imagenes, etiquetas\n",
        "\n",
        "#normalize training data with the made function\n",
        "datos_entrenamiento = datos_entrenamiento.map(normalizar)\n",
        "datos_pruebas = datos_pruebas.map(normalizar)\n",
        "\n",
        "clases = ['0', '1', '2', '3', '4', '5', '6', '7', '8', '9']"
      ]
    },
    {
      "cell_type": "code",
      "source": [
        "#to see some images \n",
        "import matplotlib.pyplot as plt\n",
        "\n",
        "plt.figure(figsize=(10,10))\n",
        "\n",
        "for i, (imagen, etiqueta) in enumerate(datos_entrenamiento.take(25)):\n",
        "  imagen = imagen.numpy().reshape((28,28))\n",
        "  plt.subplot(5,5,i+1)\n",
        "  plt.xticks([])\n",
        "  plt.yticks([])\n",
        "  plt.grid(False)\n",
        "  plt.imshow(imagen, cmap=plt.cm.binary)\n",
        "  plt.xlabel(clases[etiqueta])\n",
        "\n",
        "plt.show()  "
      ],
      "metadata": {
        "id": "pv6CB_Jq_sLR"
      },
      "execution_count": null,
      "outputs": []
    },
    {
      "cell_type": "code",
      "source": [
        "#create model\n",
        "modelo = tf.keras.Sequential([\n",
        "    tf.keras.layers.Conv2D(32, (3,3), input_shape=(28,28,1), activation='relu'),\n",
        "    tf.keras.layers.MaxPooling2D(2,2), #matrix size\n",
        "\n",
        "    tf.keras.layers.Conv2D(64, (3,3), activation='relu'),\n",
        "    tf.keras.layers.MaxPooling2D(2,2), \n",
        "\n",
        "    tf.keras.layers.Flatten(),\n",
        "    tf.keras.layers.Dense(units=100, activation='relu'),\n",
        "    tf.keras.layers.Dense(10, activation='softmax')\n",
        "])\n",
        "\n",
        "#compile the model\n",
        "modelo.compile(\n",
        "    optimizer='adam',\n",
        "    loss=tf.keras.losses.SparseCategoricalCrossentropy(),\n",
        "    metrics=['accuracy']\n",
        ")"
      ],
      "metadata": {
        "id": "wcy3T49i_uge"
      },
      "execution_count": null,
      "outputs": []
    },
    {
      "cell_type": "code",
      "source": [
        "#training and testing numbers\n",
        "num_datos_entrenamiento = metadatos.splits[\"train\"].num_examples\n",
        "num_datos_pruebas = metadatos.splits[\"test\"].num_examples\n",
        "\n",
        "TAMANO_LOTE=32\n",
        "\n",
        "#shuffling so the training doesn't learn things in a certain order\n",
        "datos_entrenamiento = datos_entrenamiento.repeat().shuffle(num_datos_entrenamiento).batch(TAMANO_LOTE)\n",
        "datos_pruebas = datos_pruebas.batch(TAMANO_LOTE)"
      ],
      "metadata": {
        "id": "OPFp0kou_w0g"
      },
      "execution_count": null,
      "outputs": []
    },
    {
      "cell_type": "code",
      "source": [
        "#Training\n",
        "import math\n",
        "\n",
        "historial = modelo.fit(\n",
        "    datos_entrenamiento,\n",
        "    epochs=60,\n",
        "    steps_per_epoch=math.ceil(num_datos_entrenamiento/TAMANO_LOTE)\n",
        ")"
      ],
      "metadata": {
        "id": "OoBiapwj_zv1"
      },
      "execution_count": null,
      "outputs": []
    },
    {
      "cell_type": "code",
      "source": [
        "#Export the model to a web explorer (More details in this video: https://youtu.be/JpE4bYyRADI )\n",
        "modelo.save('numeros_regular.h5')\n",
        "\n",
        "#convert it to tensorflowjs\n",
        "!pip install tensorflowjs\n",
        "\n",
        "!mkdir carpeta_salida\n",
        "\n",
        "!tensorflowjs_converter --input_format keras numeros_regular.h5 carpeta_salida"
      ],
      "metadata": {
        "id": "IEX-wWB-ABCK"
      },
      "execution_count": null,
      "outputs": []
    }
  ]
}